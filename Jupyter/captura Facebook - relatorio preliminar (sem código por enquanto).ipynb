{
 "cells": [
  {
   "cell_type": "code",
   "execution_count": null,
   "metadata": {},
   "outputs": [],
   "source": [
    "'''\n",
    "\n",
    "\n",
    "Daniel, esse aqui é um assunto que gostaria de contar com o Fernando. Ou outra pessoa fera em programação...Parece que o Leon ajudaria bem...\n",
    "O legal do Fernando é que 1o pq ele é fera. E fera, sempre ajuda. 2o., pq ele tem interesse\n",
    "nessa questão de facebook, e ele sabe que é meio enjoado de obter esses dados nessa rede, é bem diferente do Twitter(entendi agora, pq\n",
    "o twitter é tão mais usado em pesquisa...) .  O status atual e as dificuldades são as seguintes:\n",
    "-\n",
    "\n",
    "- já consigo capturar páginas facebook- mas com diversas limitações.\n",
    "- tem de entrar por uma página específica ou um usuário... não tem como sair varrendo... o face bloqueia...\n",
    "- não há outra forma. É preciso escolher uma página.\n",
    "- pode ser uma \"GloboNews\" da vida, um página facebook que tenha muitos usuários/seguidores.\n",
    "- o Facebook, após aquela problemática de 2018- vazamento de dados - restringiu muito a questão de acesso por robots.\n",
    "- mesmo indo a uma página, é melhor filtrar de 100 em 100 posts, para não bloquear\n",
    "\n",
    ", além disso,o Facebook possui um sistema de filtro por TAG, e por data mas ele só retorna aproximadamente 10 POSTS, de páginas sortidas. A proposta é que vc a partir dessas páginas navegue pelos POSTS tendo acesso a cerca de 100 últimos POSTS da página  \n",
    " \n",
    "•\tCom 100 páginas e 100 POSTS vc teria cerca de 1000 POSTS, considerando pegar apenas os 10 primeiros comentários daria aproximadamente 10.000 usuários que podem se repetir.\n",
    " \n",
    " \n",
    "•\té uma frustração, mas é que o Facebook tem uma politica de proteger os dados públicos e dificulta o acesso a esse tipo de informação. Por exemplo eu consigo acessar mais ou menos 120 usuários dentro de uma hora antes de ser bloqueado, e ter acesso novamente após 1 hra. Para evitar o bloqueio é necessário \"administrar\" o acesso aos usuários. O mesmo acontecerá se tentar acessar vários links e \"navegar\" por eles. Por isso optei por acessar por PÁGINAS de modo que tenho acesso a maior número de POSTS com apenas uma requisição.\n",
    " \n",
    "•\t  GPS coordenada, o Facebook não armazena essa informação, exceto para páginas de locais físicos, para que o usuário possa visitar. Exceto quando o usuário marca a posição no POSTS exemplo: \"Shopping tal cidade\" neste caso a pagina pode ter uma coordenada, estou tentando prever isso na captura, mas é muito pouco utilizado... \n",
    "'''\n",
    "\n",
    "vou precisar de mais uma semana de testes e começarei a por o código aqui ."
   ]
  }
 ],
 "metadata": {
  "kernelspec": {
   "display_name": "Python 3",
   "language": "python",
   "name": "python3"
  },
  "language_info": {
   "codemirror_mode": {
    "name": "ipython",
    "version": 3
   },
   "file_extension": ".py",
   "mimetype": "text/x-python",
   "name": "python",
   "nbconvert_exporter": "python",
   "pygments_lexer": "ipython3",
   "version": "3.7.4"
  }
 },
 "nbformat": 4,
 "nbformat_minor": 2
}
