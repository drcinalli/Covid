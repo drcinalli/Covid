'''  Luiz
eu vou adequar um código "Twitter old" para coletarmos do twitter
e comecei a estudar como buscarmos dados do facebook...parece que é mais complicado do que no twitter, mas há uma API e um trâmite para utilizá-la

'''  Luiz
{
 "cells": [
  {
   "cell_type": "markdown",
   "metadata": {},
   "source": [
    "<img src=\"./img/flow.png\"   height=\"42\"/>"
   ]
  },
  {
   "cell_type": "markdown",
   "metadata": {},
   "source": [
    "**Pessoal!**\n",
    "\n",
    "Começar a colocar aqui:  \n",
    "\n",
    "> CÓDIGO + EXPLICAÇÃO\n",
    "\n",
    "###### (didaticamente)"
   ]
  },
  {
   "cell_type": "code",
   "execution_count": null,
   "metadata": {},
   "outputs": [],
   "source": []
  }
 ],
 "metadata": {
  "kernelspec": {
   "display_name": "Python 3",
   "language": "python",
   "name": "python3"
  },
  "language_info": {
   "codemirror_mode": {
    "name": "ipython",
    "version": 3
   },
   "file_extension": ".py",
   "mimetype": "text/x-python",
   "name": "python",
   "nbconvert_exporter": "python",
   "pygments_lexer": "ipython3",
   "version": "3.7.6"
  }
 },
 "nbformat": 4,
 "nbformat_minor": 4
}
